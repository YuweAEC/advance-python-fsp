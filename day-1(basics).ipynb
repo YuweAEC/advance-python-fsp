{
 "cells": [
  {
   "cell_type": "code",
   "execution_count": 1,
   "id": "9deb61e5",
   "metadata": {},
   "outputs": [
    {
     "name": "stdout",
     "output_type": "stream",
     "text": [
      "-6 <class 'int'> 2559389205840\n",
      "-6 <class 'int'> 2559389205936\n",
      "-6 <class 'int'> 2559389205840\n"
     ]
    }
   ],
   "source": [
    "var1 = -6\n",
    "var2 = -6\n",
    "var3 = var1\n",
    "print (var1, type(var1), id(var1))\n",
    "print (var2, type(var2), id(var2))\n",
    "print (var2, type(var3), id(var3))\n"
   ]
  },
  {
   "cell_type": "code",
   "execution_count": 2,
   "id": "cc1e0522",
   "metadata": {},
   "outputs": [
    {
     "name": "stdout",
     "output_type": "stream",
     "text": [
      "A\n",
      "a\n"
     ]
    }
   ],
   "source": [
    "# Bitwise Operators: & | ~ ^\n",
    "# A => 65 => 64 + 1      => 0100 0001\n",
    "#                        or 0010 0000 (32)\n",
    "#                           ---------\n",
    "# a => 97 => 64 + 32 + 1 => 0110 0001\n",
    "mychar = 'A'\n",
    "print (mychar)\n",
    "mychar = chr(ord(mychar) | 32)\n",
    "print (mychar)"
   ]
  },
  {
   "cell_type": "code",
   "execution_count": 3,
   "id": "4a0903d4",
   "metadata": {},
   "outputs": [
    {
     "name": "stdout",
     "output_type": "stream",
     "text": [
      "a\n",
      "A\n",
      "A\n",
      "a\n"
     ]
    }
   ],
   "source": [
    "# a => 97 => 64 + 32 + 1 => 0110 0001\n",
    "#                       xor 0010 0000 (32 = 0x20)\n",
    "#                           ---------\n",
    "# A => 65 => 64 + 1      => 0100 0001\n",
    "mychar = 'a'\n",
    "print (mychar)\n",
    "mychar = chr(ord(mychar) ^ 32)\n",
    "print (mychar)\n",
    "\n",
    "mychar = 'A'\n",
    "print (mychar)\n",
    "mychar = chr(ord(mychar) ^ 0x20)\n",
    "print (mychar)"
   ]
  },
  {
   "cell_type": "code",
   "execution_count": 4,
   "id": "08be212c",
   "metadata": {},
   "outputs": [
    {
     "name": "stdout",
     "output_type": "stream",
     "text": [
      "100 Even\n",
      "105 Odd\n"
     ]
    }
   ],
   "source": [
    "# check a number from binary wheather it is odd or even \n",
    "num = 100 \n",
    "result = \"Odd\" if (num & 1) else \"Even\"\n",
    "print (num, result)\n",
    "\n",
    "num = 105 \n",
    "result = \"Odd\" if (num & 1) else \"Even\"\n",
    "print (num, result)\n"
   ]
  },
  {
   "cell_type": "code",
   "execution_count": 5,
   "id": "0b399a11",
   "metadata": {},
   "outputs": [
    {
     "name": "stdout",
     "output_type": "stream",
     "text": [
      "Please enter the first integer: 12\n",
      "Please enter the second integer: 23\n",
      "Please enter the third integer: 34\n",
      "The third number is the maximum number...\n",
      "So the maximum number is 34\n",
      "End of the program...\n"
     ]
    }
   ],
   "source": [
    "# Take three numbers from the user as input and find the maximum of these numbers\n",
    "num1 = int(input(\"Please enter the first integer: \"))\n",
    "num2 = int(input(\"Please enter the second integer: \"))\n",
    "num3 = int(input(\"Please enter the third integer: \"))\n",
    "if (num1 > num2 and num1 > num3):\n",
    "    print (\"The first number is the maximum number...\")\n",
    "    print (\"So the maximum number is\", num1)\n",
    "elif (num2 > num3):\n",
    "    print (\"The second number is the maximum number...\")\n",
    "    print (\"So the maximum number is\", num2)\n",
    "else:\n",
    "    print (\"The third number is the maximum number...\")\n",
    "    print (\"So the maximum number is\", num3)\n",
    "print (\"End of the program...\")"
   ]
  },
  {
   "cell_type": "code",
   "execution_count": null,
   "id": "2657aa72",
   "metadata": {},
   "outputs": [],
   "source": []
  }
 ],
 "metadata": {
  "kernelspec": {
   "display_name": "Python 3 (ipykernel)",
   "language": "python",
   "name": "python3"
  },
  "language_info": {
   "codemirror_mode": {
    "name": "ipython",
    "version": 3
   },
   "file_extension": ".py",
   "mimetype": "text/x-python",
   "name": "python",
   "nbconvert_exporter": "python",
   "pygments_lexer": "ipython3",
   "version": "3.11.4"
  }
 },
 "nbformat": 4,
 "nbformat_minor": 5
}
