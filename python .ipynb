{
 "cells": [
  {
   "cell_type": "code",
   "execution_count": 1,
   "id": "cfb2075d",
   "metadata": {},
   "outputs": [
    {
     "name": "stdout",
     "output_type": "stream",
     "text": [
      "-6 <class 'int'> 2559389205840\n",
      "-6 <class 'int'> 2559389205936\n",
      "-6 <class 'int'> 2559389205840\n"
     ]
    }
   ],
   "source": [
    "var1 = -6\n",
    "var2 = -6\n",
    "var3 = var1\n",
    "print (var1, type(var1), id(var1))\n",
    "print (var2, type(var2), id(var2))\n",
    "print (var2, type(var3), id(var3))\n"
   ]
  },
  {
   "cell_type": "code",
   "execution_count": null,
   "id": "4f0700f7",
   "metadata": {},
   "outputs": [],
   "source": []
  }
 ],
 "metadata": {
  "kernelspec": {
   "display_name": "Python 3 (ipykernel)",
   "language": "python",
   "name": "python3"
  },
  "language_info": {
   "codemirror_mode": {
    "name": "ipython",
    "version": 3
   },
   "file_extension": ".py",
   "mimetype": "text/x-python",
   "name": "python",
   "nbconvert_exporter": "python",
   "pygments_lexer": "ipython3",
   "version": "3.11.4"
  }
 },
 "nbformat": 4,
 "nbformat_minor": 5
}
