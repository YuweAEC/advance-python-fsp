{
 "cells": [
  {
   "cell_type": "code",
   "execution_count": 1,
   "id": "3a081326",
   "metadata": {},
   "outputs": [
    {
     "name": "stdout",
     "output_type": "stream",
     "text": [
      "-6 <class 'int'> 2559389205840\n",
      "-6 <class 'int'> 2559389205936\n",
      "-6 <class 'int'> 2559389205840\n"
     ]
    }
   ],
   "source": [
    "var1 = -6\n",
    "var2 = -6\n",
    "var3 = var1\n",
    "print (var1, type(var1), id(var1))\n",
    "print (var2, type(var2), id(var2))\n",
    "print (var2, type(var3), id(var3))\n"
   ]
  },
  {
   "cell_type": "code",
   "execution_count": 2,
   "id": "77950eda",
   "metadata": {},
   "outputs": [
    {
     "name": "stdout",
     "output_type": "stream",
     "text": [
      "A\n",
      "a\n"
     ]
    }
   ],
   "source": [
    "# Bitwise Operators: & | ~ ^\n",
    "# A => 65 => 64 + 1      => 0100 0001\n",
    "#                        or 0010 0000 (32)\n",
    "#                           ---------\n",
    "# a => 97 => 64 + 32 + 1 => 0110 0001\n",
    "mychar = 'A'\n",
    "print (mychar)\n",
    "mychar = chr(ord(mychar) | 32)\n",
    "print (mychar)"
   ]
  },
  {
   "cell_type": "code",
   "execution_count": 3,
   "id": "e0e9bdf6",
   "metadata": {},
   "outputs": [
    {
     "name": "stdout",
     "output_type": "stream",
     "text": [
      "a\n",
      "A\n",
      "A\n",
      "a\n"
     ]
    }
   ],
   "source": [
    "# a => 97 => 64 + 32 + 1 => 0110 0001\n",
    "#                       xor 0010 0000 (32 = 0x20)\n",
    "#                           ---------\n",
    "# A => 65 => 64 + 1      => 0100 0001\n",
    "mychar = 'a'\n",
    "print (mychar)\n",
    "mychar = chr(ord(mychar) ^ 32)\n",
    "print (mychar)\n",
    "\n",
    "mychar = 'A'\n",
    "print (mychar)\n",
    "mychar = chr(ord(mychar) ^ 0x20)\n",
    "print (mychar)"
   ]
  },
  {
   "cell_type": "code",
   "execution_count": null,
   "id": "39ff4bb5",
   "metadata": {},
   "outputs": [],
   "source": []
  }
 ],
 "metadata": {
  "kernelspec": {
   "display_name": "Python 3 (ipykernel)",
   "language": "python",
   "name": "python3"
  },
  "language_info": {
   "codemirror_mode": {
    "name": "ipython",
    "version": 3
   },
   "file_extension": ".py",
   "mimetype": "text/x-python",
   "name": "python",
   "nbconvert_exporter": "python",
   "pygments_lexer": "ipython3",
   "version": "3.11.4"
  }
 },
 "nbformat": 4,
 "nbformat_minor": 5
}
